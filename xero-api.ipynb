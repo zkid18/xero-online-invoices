{
 "cells": [
  {
   "cell_type": "code",
   "execution_count": 1,
   "id": "bb01ef0d",
   "metadata": {},
   "outputs": [],
   "source": [
    "import json\n",
    "import requests\n",
    "import webbrowser\n",
    "import base64\n",
    "\n",
    "client_id = 'YOUR_CLIENET_ID'\n",
    "client_secret = 'YOUR_CLIENT_SECRET'\n",
    "redirect_url = 'REDIRECT_URL'\n",
    "scope = 'offline_access accounting.transactions'\n",
    "b64_id_secret = base64.b64encode(bytes(client_id + ':' + client_secret, 'utf-8')).decode('utf-8')\n",
    "\n",
    "def XeroFirstAuth():\n",
    "    # 1. Send a user to authorize your app\n",
    "    auth_url = ('''https://login.xero.com/identity/connect/authorize?''' +\n",
    "                '''response_type=code''' +\n",
    "                '''&client_id=''' + client_id +\n",
    "                '''&redirect_uri=''' + redirect_url +\n",
    "                '''&scope=''' + scope +\n",
    "                '''&state=123''')\n",
    "    \n",
    "    print(auth_url)\n",
    "#     webbrowser.open_new(auth_url)\n",
    "    \n",
    "    # 2. Users are redirected back to you with a code\n",
    "    auth_res_url = input('What is the response URL? ')\n",
    "    start_number = auth_res_url.find('code=') + len('code=')\n",
    "    end_number = auth_res_url.find('&scope')\n",
    "    auth_code = auth_res_url[start_number:end_number]\n",
    "    print(auth_code)\n",
    "    print('\\n')\n",
    "    \n",
    "    # 3. Exchange the code\n",
    "    exchange_code_url = 'https://identity.xero.com/connect/token'\n",
    "    response = requests.post(exchange_code_url, \n",
    "                            headers = {\n",
    "                                'Authorization': 'Basic ' + b64_id_secret\n",
    "                            },\n",
    "                            data = {\n",
    "                                'grant_type': 'authorization_code',\n",
    "                                'code': auth_code,\n",
    "                                'redirect_uri': redirect_url\n",
    "                            })\n",
    "    json_response = response.json()\n",
    "    print(json_response)\n",
    "    print('\\n')\n",
    "    \n",
    "    # 4. Receive your tokens\n",
    "    return [json_response['access_token'], json_response['refresh_token']]"
   ]
  },
  {
   "cell_type": "code",
   "execution_count": null,
   "id": "a1ee0ba9",
   "metadata": {},
   "outputs": [],
   "source": [
    "XeroFirstAuth()"
   ]
  },
  {
   "cell_type": "code",
   "execution_count": 3,
   "id": "d8bf8f6e",
   "metadata": {},
   "outputs": [],
   "source": [
    "# 5. Check the full set of tenants you've been authorized to access\n",
    "def XeroTenants(access_token):\n",
    "    connections_url = 'https://api.xero.com/connections'\n",
    "    response = requests.get(connections_url,\n",
    "                           headers = {\n",
    "                               'Authorization': 'Bearer ' + access_token,\n",
    "                               'Content-Type': 'application/json'\n",
    "                           })\n",
    "    json_response = response.json()\n",
    "    print(json_response)\n",
    "    \n",
    "    for tenants in json_response:\n",
    "        json_dict = tenants\n",
    "    return json_dict['tenantId']"
   ]
  },
  {
   "cell_type": "code",
   "execution_count": 4,
   "id": "8b98d579",
   "metadata": {},
   "outputs": [],
   "source": [
    "# 6.1 Refreshing access tokens\n",
    "def XeroRefreshToken(refresh_token):\n",
    "    token_refresh_url = 'https://identity.xero.com/connect/token'\n",
    "    response = requests.post(token_refresh_url,\n",
    "                            headers = {\n",
    "                                'Authorization' : 'Basic ' + b64_id_secret,\n",
    "                                'Content-Type': 'application/x-www-form-urlencoded'\n",
    "                            },\n",
    "                            data = {\n",
    "                                'grant_type' : 'refresh_token',\n",
    "                                'refresh_token' : refresh_token\n",
    "                            })\n",
    "    json_response = response.json()\n",
    "    print(json_response)\n",
    "    \n",
    "    new_refresh_token = json_response['refresh_token']\n",
    "    rt_file = open('refresh_token.txt', 'w')\n",
    "    rt_file.write(new_refresh_token)\n",
    "    rt_file.close()\n",
    "    \n",
    "    return [json_response['access_token'], json_response['refresh_token']]"
   ]
  },
  {
   "cell_type": "code",
   "execution_count": 12,
   "id": "768a8e05",
   "metadata": {},
   "outputs": [],
   "source": [
    "def refresh_token():\n",
    "    old_tokens = XeroFirstAuth()\n",
    "    new_tokens = XeroRefreshToken(old_tokens[1])\n",
    "    return new_tokens"
   ]
  },
  {
   "cell_type": "code",
   "execution_count": 37,
   "id": "023ba38e",
   "metadata": {},
   "outputs": [],
   "source": [
    "def get_online_invoice(invoice_id, token=None, tenant_id=None):\n",
    "    if token == None:\n",
    "        refresh_token()\n",
    "    if tenant_id == None:\n",
    "        xero_tenant_id = XeroTenants(new_tokens[0])\n",
    "    \n",
    "    get_url = 'https://api.xero.com/api.xro/2.0/Invoices/{0}/OnlineInvoice'.format(invoice_id)\n",
    "    response = requests.get(get_url,\n",
    "                           headers = {\n",
    "                               'Authorization': 'Bearer ' + token[0],\n",
    "                               'Xero-tenant-id': tenant_id,\n",
    "                               'Accept': 'application/json'\n",
    "                           })\n",
    "    try:\n",
    "        json_response = response.json()\n",
    "    except:\n",
    "        print(response)\n",
    "    return json_response['OnlineInvoices'][0]['OnlineInvoiceUrl']"
   ]
  },
  {
   "cell_type": "code",
   "execution_count": null,
   "id": "33920399",
   "metadata": {},
   "outputs": [],
   "source": [
    "new_tokens = refresh_token()\n",
    "xero_tenant_id = XeroTenants(new_tokens[0])"
   ]
  },
  {
   "cell_type": "code",
   "execution_count": null,
   "id": "683d8e90",
   "metadata": {},
   "outputs": [],
   "source": [
    "from csv import reader\n",
    "import time\n",
    "\n",
    "online_invoices_arr = []\n",
    "with open('invoices.csv', 'r') as doc:\n",
    "    csv_reader = reader(doc, delimiter=\",\")\n",
    "    next(csv_reader)\n",
    "    for invoice_id in csv_reader:\n",
    "        online_invoice_id = get_online_invoice(invoice_id[0], new_tokens, xero_tenant_id)\n",
    "        time.sleep(5)\n",
    "        online_invoices_arr.append(invoice_id)\n",
    "        \n",
    "        online_invoices = open(\"online-invoices.csv\", 'a')\n",
    "        \n",
    "        online_invoices.write(f'\\n{invoice_id[0]+\"\",\"\"+online_invoice_id}')\n",
    "        online_invoices.close()"
   ]
  },
  {
   "cell_type": "code",
   "execution_count": null,
   "id": "7b2d7f1a",
   "metadata": {},
   "outputs": [],
   "source": []
  }
 ],
 "metadata": {
  "kernelspec": {
   "display_name": "Python 3",
   "language": "python",
   "name": "python3"
  },
  "language_info": {
   "codemirror_mode": {
    "name": "ipython",
    "version": 3
   },
   "file_extension": ".py",
   "mimetype": "text/x-python",
   "name": "python",
   "nbconvert_exporter": "python",
   "pygments_lexer": "ipython3",
   "version": "3.8.5"
  }
 },
 "nbformat": 4,
 "nbformat_minor": 5
}
